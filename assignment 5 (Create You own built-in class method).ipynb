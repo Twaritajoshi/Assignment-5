{
 "cells": [
  {
   "cell_type": "code",
   "execution_count": null,
   "id": "27de418e",
   "metadata": {},
   "outputs": [],
   "source": [
    "#Write a Python class to implement pow(x, n)\n",
    "#Explanation:\n",
    "#Use should be able to find the nth power of the x.(i.e x*x*x*x...n times)\n",
    "#You must implement it using Class\n",
    "#Sample Input:\n",
    "#x: 10\n",
    "#n: 2\n",
    "#Sample Output:100"
   ]
  },
  {
   "cell_type": "code",
   "execution_count": 6,
   "id": "b8096bd6",
   "metadata": {},
   "outputs": [
    {
     "name": "stdout",
     "output_type": "stream",
     "text": [
      "100\n"
     ]
    }
   ],
   "source": [
    "class py_solution:\n",
    "\n",
    "  def pow(self, x, n):\n",
    "\n",
    "       if x==0 or x==1 or n==1:\n",
    "\n",
    "           return x\n",
    "\n",
    "       if x==-1:\n",
    "\n",
    "           if n%2 ==0:\n",
    "\n",
    "               return 1\n",
    "\n",
    "           else:\n",
    "\n",
    "               return -1\n",
    "\n",
    "       if n==0:\n",
    "\n",
    "           return 1\n",
    "\n",
    "       if n<0:\n",
    "\n",
    "           return 1/self.pow(x,-n)\n",
    "\n",
    "       val = self.pow(x,n//2)\n",
    "\n",
    "       if n%2 ==0:\n",
    "\n",
    "           return val*val\n",
    "\n",
    "       return val*val*x\n",
    "\n",
    "print(py_solution().pow(10, 2));"
   ]
  }
 ],
 "metadata": {
  "kernelspec": {
   "display_name": "Python 3 (ipykernel)",
   "language": "python",
   "name": "python3"
  },
  "language_info": {
   "codemirror_mode": {
    "name": "ipython",
    "version": 3
   },
   "file_extension": ".py",
   "mimetype": "text/x-python",
   "name": "python",
   "nbconvert_exporter": "python",
   "pygments_lexer": "ipython3",
   "version": "3.9.12"
  }
 },
 "nbformat": 4,
 "nbformat_minor": 5
}
